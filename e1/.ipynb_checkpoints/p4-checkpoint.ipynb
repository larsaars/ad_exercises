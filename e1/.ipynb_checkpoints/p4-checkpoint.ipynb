{
 "cells": [
  {
   "cell_type": "code",
   "execution_count": 2,
   "id": "0e674cba-8630-405f-80c0-e0ad019df24b",
   "metadata": {},
   "outputs": [],
   "source": [
    "from utils import time_func"
   ]
  },
  {
   "cell_type": "code",
   "execution_count": 4,
   "id": "ac31c448-576c-410f-8457-84263a9c449f",
   "metadata": {},
   "outputs": [
    {
     "data": {
      "text/plain": [
       "1"
      ]
     },
     "execution_count": 4,
     "metadata": {},
     "output_type": "execute_result"
    }
   ],
   "source": [
    "time_func"
   ]
  },
  {
   "cell_type": "code",
   "execution_count": null,
   "id": "48ad6325-33c6-48b3-948e-7a5459ed8b62",
   "metadata": {},
   "outputs": [],
   "source": []
  }
 ],
 "metadata": {
  "kernelspec": {
   "display_name": "Python 3 (ipykernel)",
   "language": "python",
   "name": "python3"
  },
  "language_info": {
   "codemirror_mode": {
    "name": "ipython",
    "version": 3
   },
   "file_extension": ".py",
   "mimetype": "text/x-python",
   "name": "python",
   "nbconvert_exporter": "python",
   "pygments_lexer": "ipython3",
   "version": "3.8.10"
  }
 },
 "nbformat": 4,
 "nbformat_minor": 5
}
