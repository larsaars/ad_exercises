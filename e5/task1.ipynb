{
 "cells": [
  {
   "cell_type": "markdown",
   "id": "483fa9d0-f76b-4cdb-912e-7a17e69f6672",
   "metadata": {},
   "source": [
    "# Aufgabe 1\n",
    "Entwickeln Sie einen Algorithmus mit Laufzeit Θ(n log n), der folgende Spezifikation erfullt: ¨\n",
    "- Eingabe: a[] = {a0, . . . , an−1}, s mit ai ∈ Z, s ∈ Z, n ∈ N (n + 1 ganze Zahlen)\n",
    "- Ausgabe: true, falls es zwei Elemente ai, aj gibt mit s = ai + aj, i != j, false sonst\n",
    "Implementieren und testen Sie Ihren Algorithmus in C, C++, Java, C# oder Python."
   ]
  },
  {
   "cell_type": "code",
   "execution_count": 1,
   "id": "31ed783d-017f-4406-88b4-619b2eb6360c",
   "metadata": {},
   "outputs": [],
   "source": [
    "import numpy as np"
   ]
  },
  {
   "cell_type": "code",
   "execution_count": null,
   "id": "dfc6c472-1838-4d65-a23b-7f326c1a1d7c",
   "metadata": {},
   "outputs": [],
   "source": []
  }
 ],
 "metadata": {
  "kernelspec": {
   "display_name": "Python 3 (ipykernel)",
   "language": "python",
   "name": "python3"
  },
  "language_info": {
   "codemirror_mode": {
    "name": "ipython",
    "version": 3
   },
   "file_extension": ".py",
   "mimetype": "text/x-python",
   "name": "python",
   "nbconvert_exporter": "python",
   "pygments_lexer": "ipython3",
   "version": "3.10.9"
  }
 },
 "nbformat": 4,
 "nbformat_minor": 5
}
