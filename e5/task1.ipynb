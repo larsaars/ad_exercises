{
 "cells": [
  {
   "cell_type": "markdown",
   "id": "483fa9d0-f76b-4cdb-912e-7a17e69f6672",
   "metadata": {},
   "source": [
    "# Aufgabe 1\n",
    "Entwickeln Sie einen Algorithmus mit Laufzeit Θ(n log n), der folgende Spezifikation erfullt: \n",
    "- Eingabe: a[] = {a0, . . . , an−1}, s mit ai ∈ Z, s ∈ Z, n ∈ N (n + 1 ganze Zahlen)\n",
    "- Ausgabe: true, falls es zwei Elemente ai, aj gibt mit s = ai + aj, i != j, false sonst\n",
    "Implementieren und testen Sie Ihren Algorithmus in C, C++, Java, C# oder Python."
   ]
  },
  {
   "cell_type": "code",
   "execution_count": 12,
   "id": "31ed783d-017f-4406-88b4-619b2eb6360c",
   "metadata": {},
   "outputs": [],
   "source": [
    "import numpy as np\n",
    "import numba as nb"
   ]
  },
  {
   "cell_type": "code",
   "execution_count": 52,
   "id": "dfc6c472-1838-4d65-a23b-7f326c1a1d7c",
   "metadata": {},
   "outputs": [],
   "source": [
    "@nb.njit\n",
    "def has_sum_pair(X, s):\n",
    "    X = sorted(X)\n",
    "\n",
    "    left = 0\n",
    "    right = len(X) - 1\n",
    "\n",
    "    while left < right:\n",
    "        current_sum = X[left] + X[right]\n",
    "        if current_sum == s:\n",
    "            return True\n",
    "        elif current_sum < 0:\n",
    "            left += 1\n",
    "        else:\n",
    "            right -= 1\n",
    "    \n",
    "    return False"
   ]
  },
  {
   "cell_type": "code",
   "execution_count": 70,
   "id": "7887532e-94f7-4bfa-84de-c510efea2490",
   "metadata": {},
   "outputs": [],
   "source": [
    "X = np.random.randint(1000, size=10000000)"
   ]
  },
  {
   "cell_type": "code",
   "execution_count": 74,
   "id": "01f0aa34-b5d6-4c44-b0a9-6d200b67c57a",
   "metadata": {},
   "outputs": [
    {
     "data": {
      "text/plain": [
       "True"
      ]
     },
     "execution_count": 74,
     "metadata": {},
     "output_type": "execute_result"
    }
   ],
   "source": [
    "has_sum_pair(X, 381)"
   ]
  }
 ],
 "metadata": {
  "kernelspec": {
   "display_name": "Python 3 (ipykernel)",
   "language": "python",
   "name": "python3"
  },
  "language_info": {
   "codemirror_mode": {
    "name": "ipython",
    "version": 3
   },
   "file_extension": ".py",
   "mimetype": "text/x-python",
   "name": "python",
   "nbconvert_exporter": "python",
   "pygments_lexer": "ipython3",
   "version": "3.10.9"
  }
 },
 "nbformat": 4,
 "nbformat_minor": 5
}
